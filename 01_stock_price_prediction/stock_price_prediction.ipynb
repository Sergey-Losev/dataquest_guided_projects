{
 "cells": [
  {
   "cell_type": "code",
   "execution_count": 24,
   "id": "358f6676-bc90-464c-a803-0197bb9c6a77",
   "metadata": {},
   "outputs": [],
   "source": [
    "import yfinance as yf\n",
    "import os\n",
    "import json\n",
    "import pandas as pd"
   ]
  },
  {
   "cell_type": "markdown",
   "id": "449e81f4-4252-4ce0-a458-2101773b3b78",
   "metadata": {},
   "source": [
    "Start\n",
    "===================\n",
    "Let's load a data about stock price history for the shares of Microsoft (ticker 'MSFT') from Yahoo stock history"
   ]
  },
  {
   "cell_type": "code",
   "execution_count": 9,
   "id": "980f1be9-8c67-40c2-883d-f8b11f0a98b8",
   "metadata": {},
   "outputs": [],
   "source": [
    "msft = yf.Ticker(\"MSFT\")\n",
    "msft_hist = msft.history(period=\"max\")"
   ]
  },
  {
   "cell_type": "markdown",
   "id": "77e05274-d67e-49c9-8863-e7e598000483",
   "metadata": {},
   "source": [
    "Uploaded data\n",
    "====\n",
    "Now let's check what was got.\n",
    "It can be seen 8 columns:\n",
    " - Date - start of trading\n",
    " - Open - this the opened price\n",
    " - High - the highest price during the day\n",
    " - Low - the lowest price\n",
    " - Close - this is the last price at the end of the day\n",
    " - Volume - how many shares were traded during the day\n",
    " - Dividents - assigned dividents\n",
    " - Stock splits - case when the shares split"
   ]
  },
  {
   "cell_type": "code",
   "execution_count": 10,
   "id": "700de711-6e3e-4801-9ef0-c3d524fe9a05",
   "metadata": {},
   "outputs": [
    {
     "data": {
      "text/html": [
       "<div>\n",
       "<style scoped>\n",
       "    .dataframe tbody tr th:only-of-type {\n",
       "        vertical-align: middle;\n",
       "    }\n",
       "\n",
       "    .dataframe tbody tr th {\n",
       "        vertical-align: top;\n",
       "    }\n",
       "\n",
       "    .dataframe thead th {\n",
       "        text-align: right;\n",
       "    }\n",
       "</style>\n",
       "<table border=\"1\" class=\"dataframe\">\n",
       "  <thead>\n",
       "    <tr style=\"text-align: right;\">\n",
       "      <th></th>\n",
       "      <th>Open</th>\n",
       "      <th>High</th>\n",
       "      <th>Low</th>\n",
       "      <th>Close</th>\n",
       "      <th>Volume</th>\n",
       "      <th>Dividends</th>\n",
       "      <th>Stock Splits</th>\n",
       "    </tr>\n",
       "    <tr>\n",
       "      <th>Date</th>\n",
       "      <th></th>\n",
       "      <th></th>\n",
       "      <th></th>\n",
       "      <th></th>\n",
       "      <th></th>\n",
       "      <th></th>\n",
       "      <th></th>\n",
       "    </tr>\n",
       "  </thead>\n",
       "  <tbody>\n",
       "    <tr>\n",
       "      <th>1986-03-13</th>\n",
       "      <td>0.055536</td>\n",
       "      <td>0.063703</td>\n",
       "      <td>0.055536</td>\n",
       "      <td>0.060980</td>\n",
       "      <td>1031788800</td>\n",
       "      <td>0.0</td>\n",
       "      <td>0.0</td>\n",
       "    </tr>\n",
       "    <tr>\n",
       "      <th>1986-03-14</th>\n",
       "      <td>0.060980</td>\n",
       "      <td>0.064247</td>\n",
       "      <td>0.060980</td>\n",
       "      <td>0.063158</td>\n",
       "      <td>308160000</td>\n",
       "      <td>0.0</td>\n",
       "      <td>0.0</td>\n",
       "    </tr>\n",
       "    <tr>\n",
       "      <th>1986-03-17</th>\n",
       "      <td>0.063158</td>\n",
       "      <td>0.064792</td>\n",
       "      <td>0.063158</td>\n",
       "      <td>0.064247</td>\n",
       "      <td>133171200</td>\n",
       "      <td>0.0</td>\n",
       "      <td>0.0</td>\n",
       "    </tr>\n",
       "    <tr>\n",
       "      <th>1986-03-18</th>\n",
       "      <td>0.064247</td>\n",
       "      <td>0.064792</td>\n",
       "      <td>0.062069</td>\n",
       "      <td>0.062613</td>\n",
       "      <td>67766400</td>\n",
       "      <td>0.0</td>\n",
       "      <td>0.0</td>\n",
       "    </tr>\n",
       "    <tr>\n",
       "      <th>1986-03-19</th>\n",
       "      <td>0.062613</td>\n",
       "      <td>0.063158</td>\n",
       "      <td>0.060980</td>\n",
       "      <td>0.061524</td>\n",
       "      <td>47894400</td>\n",
       "      <td>0.0</td>\n",
       "      <td>0.0</td>\n",
       "    </tr>\n",
       "  </tbody>\n",
       "</table>\n",
       "</div>"
      ],
      "text/plain": [
       "                Open      High       Low     Close      Volume  Dividends  \\\n",
       "Date                                                                        \n",
       "1986-03-13  0.055536  0.063703  0.055536  0.060980  1031788800        0.0   \n",
       "1986-03-14  0.060980  0.064247  0.060980  0.063158   308160000        0.0   \n",
       "1986-03-17  0.063158  0.064792  0.063158  0.064247   133171200        0.0   \n",
       "1986-03-18  0.064247  0.064792  0.062069  0.062613    67766400        0.0   \n",
       "1986-03-19  0.062613  0.063158  0.060980  0.061524    47894400        0.0   \n",
       "\n",
       "            Stock Splits  \n",
       "Date                      \n",
       "1986-03-13           0.0  \n",
       "1986-03-14           0.0  \n",
       "1986-03-17           0.0  \n",
       "1986-03-18           0.0  \n",
       "1986-03-19           0.0  "
      ]
     },
     "execution_count": 10,
     "metadata": {},
     "output_type": "execute_result"
    }
   ],
   "source": [
    "msft_hist.head(5)"
   ]
  },
  {
   "cell_type": "markdown",
   "id": "bfd33044-a224-4aba-a92c-44008648337b",
   "metadata": {},
   "source": [
    "Small visualization\n",
    "======"
   ]
  },
  {
   "cell_type": "code",
   "execution_count": 11,
   "id": "ad39cd8c-3a46-4e85-811c-cb358a151d2e",
   "metadata": {},
   "outputs": [
    {
     "data": {
      "text/plain": [
       "<AxesSubplot:xlabel='Date'>"
      ]
     },
     "execution_count": 11,
     "metadata": {},
     "output_type": "execute_result"
    },
    {
     "data": {
      "image/png": "[encoded data removed]",
      "text/plain": [
       "<Figure size 432x288 with 1 Axes>"
      ]
     },
     "metadata": {
      "needs_background": "light"
     },
     "output_type": "display_data"
    }
   ],
   "source": [
    "msft_hist.plot.line(y=\"Close\", use_index=True)"
   ]
  },
  {
   "cell_type": "markdown",
   "id": "402c0a09-f3c2-43fe-8e5e-7e16024c6641",
   "metadata": {},
   "source": [
    "Preparing the data\n",
    "=====\n",
    "Now, let's prepare the data so we can make predictions. We'll be predicting if the price will go up or down tomorrow based on data from today.\n",
    "\n",
    "First, we'll identify a target that we're trying to predict. Our target will be if the price will go up or down tomorrow. If the price went up, the target will be 1 and if it went down, the target will be 0.\n",
    "\n",
    "Next, we'll shift the data from previous days \"forward\" one day, so we can use it to predict the target price. This ensures that we don't accidentally use data from the same day to make predictions! (a very common mistake)\n",
    "\n",
    "Then, we'll combine both so we have our training data."
   ]
  },
  {
   "cell_type": "code",
   "execution_count": 13,
   "id": "157cb528-a756-4c5f-ac97-38bf21cf17d6",
   "metadata": {},
   "outputs": [],
   "source": [
    "# Ensure we know the actual closing price\n",
    "data = msft_hist[[\"Close\"]]\n",
    "data = data.rename(columns = {\"Close\": \"Actual_Close\"})\n",
    "\n",
    "# Setup our target.  This identifies if the price went up or down\n",
    "data[\"Target\"] = msft_hist.rolling(2).apply(lambda x: x.iloc[1] > x.iloc[0])[\"Close\"]"
   ]
  },
  {
   "cell_type": "code",
   "execution_count": 15,
   "id": "9d4fdd1c-2d07-480a-a7b9-4b462feb2a09",
   "metadata": {},
   "outputs": [],
   "source": [
    "# Shift stock prices forward one day, so we're predicting tomorrow's stock prices \n",
    "msft_prev = msft_hist.copy()\n",
    "msft_prev = msft_prev.shift(1)"
   ]
  },
  {
   "cell_type": "code",
   "execution_count": 16,
   "id": "3b724fc3-ea25-41b7-a6ee-0e9efb7e7bfa",
   "metadata": {},
   "outputs": [],
   "source": [
    "# Create our training data\n",
    "predictors = [\"Close\", \"Volume\", \"Open\", \"High\", \"Low\"]\n",
    "data = data.join(msft_prev[predictors]).iloc[1:]"
   ]
  },
  {
   "cell_type": "code",
   "execution_count": 17,
   "id": "3d515ef8-c45b-4df6-9ef9-d24d789ae12c",
   "metadata": {},
   "outputs": [
    {
     "data": {
      "text/html": [
       "<div>\n",
       "<style scoped>\n",
       "    .dataframe tbody tr th:only-of-type {\n",
       "        vertical-align: middle;\n",
       "    }\n",
       "\n",
       "    .dataframe tbody tr th {\n",
       "        vertical-align: top;\n",
       "    }\n",
       "\n",
       "    .dataframe thead th {\n",
       "        text-align: right;\n",
       "    }\n",
       "</style>\n",
       "<table border=\"1\" class=\"dataframe\">\n",
       "  <thead>\n",
       "    <tr style=\"text-align: right;\">\n",
       "      <th></th>\n",
       "      <th>Actual_Close</th>\n",
       "      <th>Target</th>\n",
       "      <th>Close</th>\n",
       "      <th>Volume</th>\n",
       "      <th>Open</th>\n",
       "      <th>High</th>\n",
       "      <th>Low</th>\n",
       "    </tr>\n",
       "    <tr>\n",
       "      <th>Date</th>\n",
       "      <th></th>\n",
       "      <th></th>\n",
       "      <th></th>\n",
       "      <th></th>\n",
       "      <th></th>\n",
       "      <th></th>\n",
       "      <th></th>\n",
       "    </tr>\n",
       "  </thead>\n",
       "  <tbody>\n",
       "    <tr>\n",
       "      <th>1986-03-14</th>\n",
       "      <td>0.063158</td>\n",
       "      <td>1.0</td>\n",
       "      <td>0.060980</td>\n",
       "      <td>1.031789e+09</td>\n",
       "      <td>0.055536</td>\n",
       "      <td>0.063703</td>\n",
       "      <td>0.055536</td>\n",
       "    </tr>\n",
       "    <tr>\n",
       "      <th>1986-03-17</th>\n",
       "      <td>0.064247</td>\n",
       "      <td>1.0</td>\n",
       "      <td>0.063158</td>\n",
       "      <td>3.081600e+08</td>\n",
       "      <td>0.060980</td>\n",
       "      <td>0.064247</td>\n",
       "      <td>0.060980</td>\n",
       "    </tr>\n",
       "    <tr>\n",
       "      <th>1986-03-18</th>\n",
       "      <td>0.062613</td>\n",
       "      <td>0.0</td>\n",
       "      <td>0.064247</td>\n",
       "      <td>1.331712e+08</td>\n",
       "      <td>0.063158</td>\n",
       "      <td>0.064792</td>\n",
       "      <td>0.063158</td>\n",
       "    </tr>\n",
       "    <tr>\n",
       "      <th>1986-03-19</th>\n",
       "      <td>0.061524</td>\n",
       "      <td>0.0</td>\n",
       "      <td>0.062613</td>\n",
       "      <td>6.776640e+07</td>\n",
       "      <td>0.064247</td>\n",
       "      <td>0.064792</td>\n",
       "      <td>0.062069</td>\n",
       "    </tr>\n",
       "    <tr>\n",
       "      <th>1986-03-20</th>\n",
       "      <td>0.059891</td>\n",
       "      <td>0.0</td>\n",
       "      <td>0.061524</td>\n",
       "      <td>4.789440e+07</td>\n",
       "      <td>0.062613</td>\n",
       "      <td>0.063158</td>\n",
       "      <td>0.060980</td>\n",
       "    </tr>\n",
       "  </tbody>\n",
       "</table>\n",
       "</div>"
      ],
      "text/plain": [
       "            Actual_Close  Target     Close        Volume      Open      High  \\\n",
       "Date                                                                           \n",
       "1986-03-14      0.063158     1.0  0.060980  1.031789e+09  0.055536  0.063703   \n",
       "1986-03-17      0.064247     1.0  0.063158  3.081600e+08  0.060980  0.064247   \n",
       "1986-03-18      0.062613     0.0  0.064247  1.331712e+08  0.063158  0.064792   \n",
       "1986-03-19      0.061524     0.0  0.062613  6.776640e+07  0.064247  0.064792   \n",
       "1986-03-20      0.059891     0.0  0.061524  4.789440e+07  0.062613  0.063158   \n",
       "\n",
       "                 Low  \n",
       "Date                  \n",
       "1986-03-14  0.055536  \n",
       "1986-03-17  0.060980  \n",
       "1986-03-18  0.063158  \n",
       "1986-03-19  0.062069  \n",
       "1986-03-20  0.060980  "
      ]
     },
     "execution_count": 17,
     "metadata": {},
     "output_type": "execute_result"
    }
   ],
   "source": [
    "data.head(5)"
   ]
  },
  {
   "cell_type": "markdown",
   "id": "bcdd79da-411c-4e8e-a9b8-e501f5824bdd",
   "metadata": {},
   "source": [
    "Creating a machine learning model\n",
    "===\n",
    "Next, let's create a machine learning model to see how accurately we can predict the stock price.\n",
    "\n",
    "Because we're dealing with time series data, we can't just use cross-validation to create predictions for the whole dataset. This will cause leakage where data from the future will be used to predict past prices. This doesn't match with the real world, and will make us think that our algorithm is much better than it actually is.\n",
    "\n",
    "Instead, we'll split the data sequentially. We'll start off by predicting just the last 100 rows using the other rows.\n",
    "\n",
    "We'll use a random forest classifier to generate our predictions. This is a good \"default\" model for a lot of applications, because it can pick up nonlinear relationships in the data, and is somewhat robust to overfitting with the right parameters."
   ]
  },
  {
   "cell_type": "code",
   "execution_count": 21,
   "id": "d0883e6b-549d-4831-a597-d7fbe1c07bcb",
   "metadata": {},
   "outputs": [
    {
     "data": {
      "text/plain": [
       "RandomForestClassifier(min_samples_split=200, random_state=1)"
      ]
     },
     "execution_count": 21,
     "metadata": {},
     "output_type": "execute_result"
    }
   ],
   "source": [
    "from sklearn.ensemble import RandomForestClassifier\n",
    "import numpy as np\n",
    "\n",
    "model = RandomForestClassifier(n_estimators=100, min_samples_split=200, random_state=1)\n",
    "\n",
    "train = data.iloc[:-100]\n",
    "test = data.iloc[-100:]\n",
    "\n",
    "model.fit(train[predictors], train[\"Target\"])"
   ]
  },
  {
   "cell_type": "markdown",
   "id": "cd274b7f-70c8-4b49-a059-d5cf1d121b58",
   "metadata": {},
   "source": [
    "Next, we'll need to check how accurate the model was. Earlier, we mentioned using precision to measure error. We can do this by using the precision_score function from scikit-learn."
   ]
  },
  {
   "cell_type": "code",
   "execution_count": 25,
   "id": "bbc07e73-d03b-4ebc-90ea-54114ac964bc",
   "metadata": {},
   "outputs": [
    {
     "data": {
      "text/plain": [
       "0.45348837209302323"
      ]
     },
     "execution_count": 25,
     "metadata": {},
     "output_type": "execute_result"
    }
   ],
   "source": [
    "from sklearn.metrics import precision_score\n",
    "\n",
    "# Evaluate error of predictions\n",
    "preds = model.predict(test[predictors])\n",
    "preds = pd.Series(preds, index=test.index)\n",
    "precision_score(test[\"Target\"], preds)"
   ]
  },
  {
   "cell_type": "markdown",
   "id": "516499fc-988e-40f7-8890-9d59c9654a72",
   "metadata": {},
   "source": [
    "So our model is directionally accurate 45% of the time. This is alike to a coin flip! We can take a deeper look at the individual predictions and the actuals, and see where we're off."
   ]
  },
  {
   "cell_type": "code",
   "execution_count": 28,
   "id": "2945237a-5ad3-4981-a271-ac652f1d40c5",
   "metadata": {},
   "outputs": [
    {
     "data": {
      "text/plain": [
       "<AxesSubplot:xlabel='Date'>"
      ]
     },
     "execution_count": 28,
     "metadata": {},
     "output_type": "execute_result"
    },
    {
     "data": {
      "image/png": "[encoded data removed]",
      "text/plain": [
       "<Figure size 432x288 with 1 Axes>"
      ]
     },
     "metadata": {
      "needs_background": "light"
     },
     "output_type": "display_data"
    }
   ],
   "source": [
    "combined = pd.concat({\"Target\": test[\"Target\"],\"Predictions\": preds}, axis=1)\n",
    "combined.plot()"
   ]
  },
  {
   "cell_type": "markdown",
   "id": "6fa1336e-0c1f-49fa-a896-6ac33c3fb60e",
   "metadata": {},
   "source": [
    "Backtesting\n",
    "===\n",
    "Our model isn't great, but luckily we can still improve it. Before we do that, let's figure out how to make predictions across the entire dataset, not just the last 100 rows. This will give us a more robust error estimate. The last 100 days may have has atypical market conditions or other issues that make error metrics on those days unrealistic for future predictions (which are what we really care about).\n",
    "\n",
    "To do this, we'll need to backtest. Backtesting ensures that we only use data from before the day that we're predicting. If we use data from after the day we're predicting, the algorithm is unrealistic (in the real world, you won't be able to use future data to predict that past!).\n",
    "\n",
    "Our backtesting method will loop over the dataset, and train a model every 750 rows. We'll make it a function so we can avoid rewriting the code if we want to backtest again.\n",
    "\n",
    "In the backtesting function, we will:\n",
    "\n",
    "Split the training and test data\n",
    "Train a model\n",
    "Make predictions on the test data using predict_proba - this is because we want to really optimize for true positives. By default, the threshold for splitting 0/1 is .5, but we can set it to different values to tweak the precision. If we set it too high, we'll make fewer trades, but will have a lower potential for losses.\n"
   ]
  },
  {
   "cell_type": "code",
   "execution_count": 46,
   "id": "9508e36b-d5e0-4b96-b086-a77d759b2e5d",
   "metadata": {},
   "outputs": [],
   "source": [
    "start = 1000\n",
    "step = 750\n",
    "def backtest(data, model, predictors, start=1000, step=750):\n",
    "    predictions = []\n",
    "    for i in range(start, data.shape[0], step):\n",
    "\n",
    "        train = data.iloc[0:i].copy()\n",
    "        test = data.iloc[i:(i + step)].copy()\n",
    "\n",
    "        model.fit(train[predictors], train[\"Target\"])\n",
    "\n",
    "        preds = model.predict_proba(test[predictors])[:,1]\n",
    "        preds = pd.Series(preds, index=test.index)\n",
    "        preds[preds > .6] = 1\n",
    "        preds[preds <= .6] = 0\n",
    "\n",
    "        combined = pd.concat({\"Target\": test[\"Target\"], \"Predictions\": preds}, axis=1)\n",
    "        predictions.append(combined)\n",
    "\n",
    "    predictions = pd.concat(predictions)\n",
    "    return predictions"
   ]
  },
  {
   "cell_type": "code",
   "execution_count": 47,
   "id": "d1b08f52-75ad-4775-af6b-28ad898dd20b",
   "metadata": {},
   "outputs": [
    {
     "data": {
      "text/plain": [
       "0.0    7516\n",
       "1.0     697\n",
       "Name: Predictions, dtype: int64"
      ]
     },
     "execution_count": 47,
     "metadata": {},
     "output_type": "execute_result"
    }
   ],
   "source": [
    "predictions[\"Predictions\"].value_counts()"
   ]
  },
  {
   "cell_type": "code",
   "execution_count": 48,
   "id": "cb1ceb44-7704-406b-9573-ab0d8a12bcab",
   "metadata": {},
   "outputs": [
    {
     "data": {
      "text/plain": [
       "0.5050215208034433"
      ]
     },
     "execution_count": 48,
     "metadata": {},
     "output_type": "execute_result"
    }
   ],
   "source": [
    "precision_score(predictions[\"Target\"], predictions[\"Predictions\"])"
   ]
  },
  {
   "cell_type": "code",
   "execution_count": 49,
   "id": "22a51fff-1259-4e50-ad6d-5b87c87bf2eb",
   "metadata": {},
   "outputs": [],
   "source": [
    "weekly_mean = data.rolling(7).mean()\n",
    "quarterly_mean = data.rolling(90).mean()\n",
    "annual_mean = data.rolling(365).mean()\n",
    "\n",
    "weekly_trend = data.shift(1).rolling(7).mean()[\"Target\"]"
   ]
  },
  {
   "cell_type": "code",
   "execution_count": 50,
   "id": "49f17e94-16fd-4bca-bbc2-78ea09e5a648",
   "metadata": {},
   "outputs": [],
   "source": [
    "data[\"weekly_mean\"] = weekly_mean[\"Close\"] / data[\"Close\"]\n",
    "data[\"quarterly_mean\"] = quarterly_mean[\"Close\"] / data[\"Close\"]\n",
    "data[\"annual_mean\"] = annual_mean[\"Close\"] / data[\"Close\"]\n",
    "\n",
    "data[\"annual_weekly_mean\"] = data[\"annual_mean\"] / data[\"weekly_mean\"]\n",
    "data[\"annual_quarterly_mean\"] = data[\"annual_mean\"] / data[\"quarterly_mean\"]\n",
    "data[\"weekly_trend\"] = weekly_trend\n",
    "\n",
    "data[\"open_close_ratio\"] = data[\"Open\"] / data[\"Close\"]\n",
    "data[\"high_close_ratio\"] = data[\"High\"] / data[\"Close\"]\n",
    "data[\"low_close_ratio\"] = data[\"Low\"] / data[\"Close\"]"
   ]
  },
  {
   "cell_type": "code",
   "execution_count": 51,
   "id": "e3e6d15c-2782-4013-82ad-8a4df6662ddc",
   "metadata": {},
   "outputs": [],
   "source": [
    "full_predictors = predictors + [\"weekly_mean\", \"quarterly_mean\", \"annual_mean\", \"annual_weekly_mean\", \"annual_quarterly_mean\", \"open_close_ratio\", \"high_close_ratio\", \"low_close_ratio\", \"weekly_trend\"]\n",
    "predictions = backtest(data.iloc[365:], model, full_predictors)"
   ]
  },
  {
   "cell_type": "code",
   "execution_count": 52,
   "id": "1faf622d-1192-4514-9ace-1bd22674eb5f",
   "metadata": {},
   "outputs": [
    {
     "data": {
      "text/plain": [
       "0.5657894736842105"
      ]
     },
     "execution_count": 52,
     "metadata": {},
     "output_type": "execute_result"
    }
   ],
   "source": [
    "precision_score(predictions[\"Target\"], predictions[\"Predictions\"])"
   ]
  },
  {
   "cell_type": "code",
   "execution_count": 53,
   "id": "897baacb-b329-4d8c-bf8c-5d9672df6a20",
   "metadata": {},
   "outputs": [
    {
     "data": {
      "text/plain": [
       "0.0    7620\n",
       "1.0     228\n",
       "Name: Predictions, dtype: int64"
      ]
     },
     "execution_count": 53,
     "metadata": {},
     "output_type": "execute_result"
    }
   ],
   "source": [
    "# Show how many trades we would make\n",
    "\n",
    "predictions[\"Predictions\"].value_counts()"
   ]
  },
  {
   "cell_type": "code",
   "execution_count": 54,
   "id": "a15a58f2-73a2-4178-8454-2b19416a9263",
   "metadata": {},
   "outputs": [
    {
     "data": {
      "text/plain": [
       "<AxesSubplot:xlabel='Date'>"
      ]
     },
     "execution_count": 54,
     "metadata": {},
     "output_type": "execute_result"
    },
    {
     "data": {
      "image/png": "[encoded data removed]",
      "text/plain": [
       "<Figure size 432x288 with 1 Axes>"
      ]
     },
     "metadata": {
      "needs_background": "light"
     },
     "output_type": "display_data"
    }
   ],
   "source": [
    "predictions.iloc[-100:].plot()"
   ]
  }
 ],
 "metadata": {
  "kernelspec": {
   "display_name": "Python 3 (ipykernel)",
   "language": "python",
   "name": "python3"
  },
  "language_info": {
   "codemirror_mode": {
    "name": "ipython",
    "version": 3
   },
   "file_extension": ".py",
   "mimetype": "text/x-python",
   "name": "python",
   "nbconvert_exporter": "python",
   "pygments_lexer": "ipython3",
   "version": "3.9.12"
  }
 },
 "nbformat": 4,
 "nbformat_minor": 5
}
